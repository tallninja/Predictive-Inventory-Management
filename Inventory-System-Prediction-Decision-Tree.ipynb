{
 "cells": [
  {
   "cell_type": "code",
   "execution_count": 16,
   "metadata": {},
   "outputs": [],
   "source": [
    "import os\n",
    "import pandas as pd\n",
    "from sklearn.model_selection import train_test_split\n",
    "from sklearn.tree import DecisionTreeClassifier, export_text, plot_tree\n",
    "from sklearn.metrics import accuracy_score, classification_report\n",
    "import matplotlib.pyplot as plt\n",
    "import pickle"
   ]
  },
  {
   "cell_type": "code",
   "execution_count": 17,
   "metadata": {},
   "outputs": [],
   "source": [
    "BASE_DIR = os.path.curdir\n",
    "DATASETS_DIR = os.path.join(BASE_DIR, 'datasets')\n",
    "DATA_FILE = os.path.join(DATASETS_DIR, 'data.csv')\n",
    "\n",
    "# Load the first 2000 rows of the dataset (assuming it's in a CSV file)\n",
    "df = pd.read_csv(DATA_FILE, nrows=2000)"
   ]
  },
  {
   "cell_type": "code",
   "execution_count": 18,
   "metadata": {},
   "outputs": [
    {
     "data": {
      "text/html": [
       "<div>\n",
       "<style scoped>\n",
       "    .dataframe tbody tr th:only-of-type {\n",
       "        vertical-align: middle;\n",
       "    }\n",
       "\n",
       "    .dataframe tbody tr th {\n",
       "        vertical-align: top;\n",
       "    }\n",
       "\n",
       "    .dataframe thead th {\n",
       "        text-align: right;\n",
       "    }\n",
       "</style>\n",
       "<table border=\"1\" class=\"dataframe\">\n",
       "  <thead>\n",
       "    <tr style=\"text-align: right;\">\n",
       "      <th></th>\n",
       "      <th>2023-01-09</th>\n",
       "      <th>Product Name</th>\n",
       "      <th>Product ID</th>\n",
       "      <th>Sales</th>\n",
       "      <th>Buying Price</th>\n",
       "      <th>Quantity</th>\n",
       "    </tr>\n",
       "  </thead>\n",
       "  <tbody>\n",
       "    <tr>\n",
       "      <th>0</th>\n",
       "      <td>2023-01-09</td>\n",
       "      <td>JSB T2 DECORDER</td>\n",
       "      <td>404</td>\n",
       "      <td>200</td>\n",
       "      <td>160</td>\n",
       "      <td>1</td>\n",
       "    </tr>\n",
       "    <tr>\n",
       "      <th>1</th>\n",
       "      <td>2023-01-09</td>\n",
       "      <td>NUNIX DISH RACK DR2S</td>\n",
       "      <td>307</td>\n",
       "      <td>300</td>\n",
       "      <td>240</td>\n",
       "      <td>2</td>\n",
       "    </tr>\n",
       "    <tr>\n",
       "      <th>2</th>\n",
       "      <td>2023-01-09</td>\n",
       "      <td>NUNIX DISH RACK DR3S</td>\n",
       "      <td>310</td>\n",
       "      <td>400</td>\n",
       "      <td>320</td>\n",
       "      <td>1</td>\n",
       "    </tr>\n",
       "    <tr>\n",
       "      <th>3</th>\n",
       "      <td>2023-01-09</td>\n",
       "      <td>DIGITAL SCALE-FLAT</td>\n",
       "      <td>107</td>\n",
       "      <td>500</td>\n",
       "      <td>400</td>\n",
       "      <td>4</td>\n",
       "    </tr>\n",
       "    <tr>\n",
       "      <th>4</th>\n",
       "      <td>2023-01-09</td>\n",
       "      <td>AILYONS IRON BOX-HD198A</td>\n",
       "      <td>93</td>\n",
       "      <td>600</td>\n",
       "      <td>480</td>\n",
       "      <td>15</td>\n",
       "    </tr>\n",
       "  </tbody>\n",
       "</table>\n",
       "</div>"
      ],
      "text/plain": [
       "   2023-01-09             Product Name  Product ID  Sales  Buying Price  \\\n",
       "0  2023-01-09          JSB T2 DECORDER         404    200           160   \n",
       "1  2023-01-09     NUNIX DISH RACK DR2S         307    300           240   \n",
       "2  2023-01-09     NUNIX DISH RACK DR3S         310    400           320   \n",
       "3  2023-01-09       DIGITAL SCALE-FLAT         107    500           400   \n",
       "4  2023-01-09  AILYONS IRON BOX-HD198A          93    600           480   \n",
       "\n",
       "   Quantity  \n",
       "0         1  \n",
       "1         2  \n",
       "2         1  \n",
       "3         4  \n",
       "4        15  "
      ]
     },
     "execution_count": 18,
     "metadata": {},
     "output_type": "execute_result"
    }
   ],
   "source": [
    "df.head()"
   ]
  },
  {
   "cell_type": "code",
   "execution_count": 19,
   "metadata": {},
   "outputs": [
    {
     "data": {
      "text/html": [
       "<div>\n",
       "<style scoped>\n",
       "    .dataframe tbody tr th:only-of-type {\n",
       "        vertical-align: middle;\n",
       "    }\n",
       "\n",
       "    .dataframe tbody tr th {\n",
       "        vertical-align: top;\n",
       "    }\n",
       "\n",
       "    .dataframe thead th {\n",
       "        text-align: right;\n",
       "    }\n",
       "</style>\n",
       "<table border=\"1\" class=\"dataframe\">\n",
       "  <thead>\n",
       "    <tr style=\"text-align: right;\">\n",
       "      <th></th>\n",
       "      <th>Product ID</th>\n",
       "      <th>Sales</th>\n",
       "      <th>Buying Price</th>\n",
       "      <th>Quantity</th>\n",
       "    </tr>\n",
       "  </thead>\n",
       "  <tbody>\n",
       "    <tr>\n",
       "      <th>count</th>\n",
       "      <td>2000.000000</td>\n",
       "      <td>2000.000000</td>\n",
       "      <td>2000.000000</td>\n",
       "      <td>2000.000000</td>\n",
       "    </tr>\n",
       "    <tr>\n",
       "      <th>mean</th>\n",
       "      <td>246.155500</td>\n",
       "      <td>550.000000</td>\n",
       "      <td>440.000000</td>\n",
       "      <td>5.325500</td>\n",
       "    </tr>\n",
       "    <tr>\n",
       "      <th>std</th>\n",
       "      <td>142.841882</td>\n",
       "      <td>229.186088</td>\n",
       "      <td>183.348871</td>\n",
       "      <td>5.121197</td>\n",
       "    </tr>\n",
       "    <tr>\n",
       "      <th>min</th>\n",
       "      <td>4.000000</td>\n",
       "      <td>200.000000</td>\n",
       "      <td>160.000000</td>\n",
       "      <td>1.000000</td>\n",
       "    </tr>\n",
       "    <tr>\n",
       "      <th>25%</th>\n",
       "      <td>93.000000</td>\n",
       "      <td>375.000000</td>\n",
       "      <td>300.000000</td>\n",
       "      <td>1.000000</td>\n",
       "    </tr>\n",
       "    <tr>\n",
       "      <th>50%</th>\n",
       "      <td>252.000000</td>\n",
       "      <td>550.000000</td>\n",
       "      <td>440.000000</td>\n",
       "      <td>2.000000</td>\n",
       "    </tr>\n",
       "    <tr>\n",
       "      <th>75%</th>\n",
       "      <td>381.000000</td>\n",
       "      <td>725.000000</td>\n",
       "      <td>580.000000</td>\n",
       "      <td>9.000000</td>\n",
       "    </tr>\n",
       "    <tr>\n",
       "      <th>max</th>\n",
       "      <td>461.000000</td>\n",
       "      <td>900.000000</td>\n",
       "      <td>720.000000</td>\n",
       "      <td>15.000000</td>\n",
       "    </tr>\n",
       "  </tbody>\n",
       "</table>\n",
       "</div>"
      ],
      "text/plain": [
       "        Product ID        Sales  Buying Price     Quantity\n",
       "count  2000.000000  2000.000000   2000.000000  2000.000000\n",
       "mean    246.155500   550.000000    440.000000     5.325500\n",
       "std     142.841882   229.186088    183.348871     5.121197\n",
       "min       4.000000   200.000000    160.000000     1.000000\n",
       "25%      93.000000   375.000000    300.000000     1.000000\n",
       "50%     252.000000   550.000000    440.000000     2.000000\n",
       "75%     381.000000   725.000000    580.000000     9.000000\n",
       "max     461.000000   900.000000    720.000000    15.000000"
      ]
     },
     "execution_count": 19,
     "metadata": {},
     "output_type": "execute_result"
    }
   ],
   "source": [
    "df.describe()"
   ]
  },
  {
   "cell_type": "markdown",
   "metadata": {},
   "source": [
    "### Features and target variable"
   ]
  },
  {
   "cell_type": "code",
   "execution_count": 20,
   "metadata": {},
   "outputs": [],
   "source": [
    "X = df[['Product ID', 'Sales', 'Buying Price', 'Quantity']]"
   ]
  },
  {
   "cell_type": "markdown",
   "metadata": {},
   "source": [
    "### Adjusted threshold: Restock if Quantity is less than 0 OR Sales are greater than 800"
   ]
  },
  {
   "cell_type": "code",
   "execution_count": 21,
   "metadata": {},
   "outputs": [],
   "source": [
    "df['Restock'] = ((df['Quantity'] < 0) | (df['Sales'] > 800)).astype(int)"
   ]
  },
  {
   "cell_type": "code",
   "execution_count": 22,
   "metadata": {},
   "outputs": [
    {
     "data": {
      "text/html": [
       "<div>\n",
       "<style scoped>\n",
       "    .dataframe tbody tr th:only-of-type {\n",
       "        vertical-align: middle;\n",
       "    }\n",
       "\n",
       "    .dataframe tbody tr th {\n",
       "        vertical-align: top;\n",
       "    }\n",
       "\n",
       "    .dataframe thead th {\n",
       "        text-align: right;\n",
       "    }\n",
       "</style>\n",
       "<table border=\"1\" class=\"dataframe\">\n",
       "  <thead>\n",
       "    <tr style=\"text-align: right;\">\n",
       "      <th></th>\n",
       "      <th>2023-01-09</th>\n",
       "      <th>Product Name</th>\n",
       "      <th>Product ID</th>\n",
       "      <th>Sales</th>\n",
       "      <th>Buying Price</th>\n",
       "      <th>Quantity</th>\n",
       "      <th>Restock</th>\n",
       "    </tr>\n",
       "  </thead>\n",
       "  <tbody>\n",
       "    <tr>\n",
       "      <th>0</th>\n",
       "      <td>2023-01-09</td>\n",
       "      <td>JSB T2 DECORDER</td>\n",
       "      <td>404</td>\n",
       "      <td>200</td>\n",
       "      <td>160</td>\n",
       "      <td>1</td>\n",
       "      <td>0</td>\n",
       "    </tr>\n",
       "    <tr>\n",
       "      <th>1</th>\n",
       "      <td>2023-01-09</td>\n",
       "      <td>NUNIX DISH RACK DR2S</td>\n",
       "      <td>307</td>\n",
       "      <td>300</td>\n",
       "      <td>240</td>\n",
       "      <td>2</td>\n",
       "      <td>0</td>\n",
       "    </tr>\n",
       "    <tr>\n",
       "      <th>2</th>\n",
       "      <td>2023-01-09</td>\n",
       "      <td>NUNIX DISH RACK DR3S</td>\n",
       "      <td>310</td>\n",
       "      <td>400</td>\n",
       "      <td>320</td>\n",
       "      <td>1</td>\n",
       "      <td>0</td>\n",
       "    </tr>\n",
       "    <tr>\n",
       "      <th>3</th>\n",
       "      <td>2023-01-09</td>\n",
       "      <td>DIGITAL SCALE-FLAT</td>\n",
       "      <td>107</td>\n",
       "      <td>500</td>\n",
       "      <td>400</td>\n",
       "      <td>4</td>\n",
       "      <td>0</td>\n",
       "    </tr>\n",
       "    <tr>\n",
       "      <th>4</th>\n",
       "      <td>2023-01-09</td>\n",
       "      <td>AILYONS IRON BOX-HD198A</td>\n",
       "      <td>93</td>\n",
       "      <td>600</td>\n",
       "      <td>480</td>\n",
       "      <td>15</td>\n",
       "      <td>0</td>\n",
       "    </tr>\n",
       "  </tbody>\n",
       "</table>\n",
       "</div>"
      ],
      "text/plain": [
       "   2023-01-09             Product Name  Product ID  Sales  Buying Price  \\\n",
       "0  2023-01-09          JSB T2 DECORDER         404    200           160   \n",
       "1  2023-01-09     NUNIX DISH RACK DR2S         307    300           240   \n",
       "2  2023-01-09     NUNIX DISH RACK DR3S         310    400           320   \n",
       "3  2023-01-09       DIGITAL SCALE-FLAT         107    500           400   \n",
       "4  2023-01-09  AILYONS IRON BOX-HD198A          93    600           480   \n",
       "\n",
       "   Quantity  Restock  \n",
       "0         1        0  \n",
       "1         2        0  \n",
       "2         1        0  \n",
       "3         4        0  \n",
       "4        15        0  "
      ]
     },
     "execution_count": 22,
     "metadata": {},
     "output_type": "execute_result"
    }
   ],
   "source": [
    "df.head()"
   ]
  },
  {
   "cell_type": "code",
   "execution_count": 23,
   "metadata": {},
   "outputs": [
    {
     "data": {
      "text/html": [
       "<div>\n",
       "<style scoped>\n",
       "    .dataframe tbody tr th:only-of-type {\n",
       "        vertical-align: middle;\n",
       "    }\n",
       "\n",
       "    .dataframe tbody tr th {\n",
       "        vertical-align: top;\n",
       "    }\n",
       "\n",
       "    .dataframe thead th {\n",
       "        text-align: right;\n",
       "    }\n",
       "</style>\n",
       "<table border=\"1\" class=\"dataframe\">\n",
       "  <thead>\n",
       "    <tr style=\"text-align: right;\">\n",
       "      <th></th>\n",
       "      <th>Product ID</th>\n",
       "      <th>Sales</th>\n",
       "      <th>Buying Price</th>\n",
       "      <th>Quantity</th>\n",
       "      <th>Restock</th>\n",
       "    </tr>\n",
       "  </thead>\n",
       "  <tbody>\n",
       "    <tr>\n",
       "      <th>count</th>\n",
       "      <td>2000.000000</td>\n",
       "      <td>2000.000000</td>\n",
       "      <td>2000.000000</td>\n",
       "      <td>2000.000000</td>\n",
       "      <td>2000.000000</td>\n",
       "    </tr>\n",
       "    <tr>\n",
       "      <th>mean</th>\n",
       "      <td>246.155500</td>\n",
       "      <td>550.000000</td>\n",
       "      <td>440.000000</td>\n",
       "      <td>5.325500</td>\n",
       "      <td>0.125000</td>\n",
       "    </tr>\n",
       "    <tr>\n",
       "      <th>std</th>\n",
       "      <td>142.841882</td>\n",
       "      <td>229.186088</td>\n",
       "      <td>183.348871</td>\n",
       "      <td>5.121197</td>\n",
       "      <td>0.330802</td>\n",
       "    </tr>\n",
       "    <tr>\n",
       "      <th>min</th>\n",
       "      <td>4.000000</td>\n",
       "      <td>200.000000</td>\n",
       "      <td>160.000000</td>\n",
       "      <td>1.000000</td>\n",
       "      <td>0.000000</td>\n",
       "    </tr>\n",
       "    <tr>\n",
       "      <th>25%</th>\n",
       "      <td>93.000000</td>\n",
       "      <td>375.000000</td>\n",
       "      <td>300.000000</td>\n",
       "      <td>1.000000</td>\n",
       "      <td>0.000000</td>\n",
       "    </tr>\n",
       "    <tr>\n",
       "      <th>50%</th>\n",
       "      <td>252.000000</td>\n",
       "      <td>550.000000</td>\n",
       "      <td>440.000000</td>\n",
       "      <td>2.000000</td>\n",
       "      <td>0.000000</td>\n",
       "    </tr>\n",
       "    <tr>\n",
       "      <th>75%</th>\n",
       "      <td>381.000000</td>\n",
       "      <td>725.000000</td>\n",
       "      <td>580.000000</td>\n",
       "      <td>9.000000</td>\n",
       "      <td>0.000000</td>\n",
       "    </tr>\n",
       "    <tr>\n",
       "      <th>max</th>\n",
       "      <td>461.000000</td>\n",
       "      <td>900.000000</td>\n",
       "      <td>720.000000</td>\n",
       "      <td>15.000000</td>\n",
       "      <td>1.000000</td>\n",
       "    </tr>\n",
       "  </tbody>\n",
       "</table>\n",
       "</div>"
      ],
      "text/plain": [
       "        Product ID        Sales  Buying Price     Quantity      Restock\n",
       "count  2000.000000  2000.000000   2000.000000  2000.000000  2000.000000\n",
       "mean    246.155500   550.000000    440.000000     5.325500     0.125000\n",
       "std     142.841882   229.186088    183.348871     5.121197     0.330802\n",
       "min       4.000000   200.000000    160.000000     1.000000     0.000000\n",
       "25%      93.000000   375.000000    300.000000     1.000000     0.000000\n",
       "50%     252.000000   550.000000    440.000000     2.000000     0.000000\n",
       "75%     381.000000   725.000000    580.000000     9.000000     0.000000\n",
       "max     461.000000   900.000000    720.000000    15.000000     1.000000"
      ]
     },
     "execution_count": 23,
     "metadata": {},
     "output_type": "execute_result"
    }
   ],
   "source": [
    "df.describe()"
   ]
  },
  {
   "cell_type": "markdown",
   "metadata": {},
   "source": [
    "### Split the data into training and testing sets"
   ]
  },
  {
   "cell_type": "code",
   "execution_count": 24,
   "metadata": {},
   "outputs": [],
   "source": [
    "X_train, X_test, y_train, y_test = train_test_split(X, df['Restock'], test_size=0.2, random_state=42)"
   ]
  },
  {
   "cell_type": "markdown",
   "metadata": {},
   "source": [
    "### Create a decision tree model"
   ]
  },
  {
   "cell_type": "code",
   "execution_count": 25,
   "metadata": {},
   "outputs": [
    {
     "data": {
      "text/html": [
       "<style>#sk-container-id-2 {color: black;}#sk-container-id-2 pre{padding: 0;}#sk-container-id-2 div.sk-toggleable {background-color: white;}#sk-container-id-2 label.sk-toggleable__label {cursor: pointer;display: block;width: 100%;margin-bottom: 0;padding: 0.3em;box-sizing: border-box;text-align: center;}#sk-container-id-2 label.sk-toggleable__label-arrow:before {content: \"▸\";float: left;margin-right: 0.25em;color: #696969;}#sk-container-id-2 label.sk-toggleable__label-arrow:hover:before {color: black;}#sk-container-id-2 div.sk-estimator:hover label.sk-toggleable__label-arrow:before {color: black;}#sk-container-id-2 div.sk-toggleable__content {max-height: 0;max-width: 0;overflow: hidden;text-align: left;background-color: #f0f8ff;}#sk-container-id-2 div.sk-toggleable__content pre {margin: 0.2em;color: black;border-radius: 0.25em;background-color: #f0f8ff;}#sk-container-id-2 input.sk-toggleable__control:checked~div.sk-toggleable__content {max-height: 200px;max-width: 100%;overflow: auto;}#sk-container-id-2 input.sk-toggleable__control:checked~label.sk-toggleable__label-arrow:before {content: \"▾\";}#sk-container-id-2 div.sk-estimator input.sk-toggleable__control:checked~label.sk-toggleable__label {background-color: #d4ebff;}#sk-container-id-2 div.sk-label input.sk-toggleable__control:checked~label.sk-toggleable__label {background-color: #d4ebff;}#sk-container-id-2 input.sk-hidden--visually {border: 0;clip: rect(1px 1px 1px 1px);clip: rect(1px, 1px, 1px, 1px);height: 1px;margin: -1px;overflow: hidden;padding: 0;position: absolute;width: 1px;}#sk-container-id-2 div.sk-estimator {font-family: monospace;background-color: #f0f8ff;border: 1px dotted black;border-radius: 0.25em;box-sizing: border-box;margin-bottom: 0.5em;}#sk-container-id-2 div.sk-estimator:hover {background-color: #d4ebff;}#sk-container-id-2 div.sk-parallel-item::after {content: \"\";width: 100%;border-bottom: 1px solid gray;flex-grow: 1;}#sk-container-id-2 div.sk-label:hover label.sk-toggleable__label {background-color: #d4ebff;}#sk-container-id-2 div.sk-serial::before {content: \"\";position: absolute;border-left: 1px solid gray;box-sizing: border-box;top: 0;bottom: 0;left: 50%;z-index: 0;}#sk-container-id-2 div.sk-serial {display: flex;flex-direction: column;align-items: center;background-color: white;padding-right: 0.2em;padding-left: 0.2em;position: relative;}#sk-container-id-2 div.sk-item {position: relative;z-index: 1;}#sk-container-id-2 div.sk-parallel {display: flex;align-items: stretch;justify-content: center;background-color: white;position: relative;}#sk-container-id-2 div.sk-item::before, #sk-container-id-2 div.sk-parallel-item::before {content: \"\";position: absolute;border-left: 1px solid gray;box-sizing: border-box;top: 0;bottom: 0;left: 50%;z-index: -1;}#sk-container-id-2 div.sk-parallel-item {display: flex;flex-direction: column;z-index: 1;position: relative;background-color: white;}#sk-container-id-2 div.sk-parallel-item:first-child::after {align-self: flex-end;width: 50%;}#sk-container-id-2 div.sk-parallel-item:last-child::after {align-self: flex-start;width: 50%;}#sk-container-id-2 div.sk-parallel-item:only-child::after {width: 0;}#sk-container-id-2 div.sk-dashed-wrapped {border: 1px dashed gray;margin: 0 0.4em 0.5em 0.4em;box-sizing: border-box;padding-bottom: 0.4em;background-color: white;}#sk-container-id-2 div.sk-label label {font-family: monospace;font-weight: bold;display: inline-block;line-height: 1.2em;}#sk-container-id-2 div.sk-label-container {text-align: center;}#sk-container-id-2 div.sk-container {/* jupyter's `normalize.less` sets `[hidden] { display: none; }` but bootstrap.min.css set `[hidden] { display: none !important; }` so we also need the `!important` here to be able to override the default hidden behavior on the sphinx rendered scikit-learn.org. See: https://github.com/scikit-learn/scikit-learn/issues/21755 */display: inline-block !important;position: relative;}#sk-container-id-2 div.sk-text-repr-fallback {display: none;}</style><div id=\"sk-container-id-2\" class=\"sk-top-container\"><div class=\"sk-text-repr-fallback\"><pre>DecisionTreeClassifier(random_state=42)</pre><b>In a Jupyter environment, please rerun this cell to show the HTML representation or trust the notebook. <br />On GitHub, the HTML representation is unable to render, please try loading this page with nbviewer.org.</b></div><div class=\"sk-container\" hidden><div class=\"sk-item\"><div class=\"sk-estimator sk-toggleable\"><input class=\"sk-toggleable__control sk-hidden--visually\" id=\"sk-estimator-id-2\" type=\"checkbox\" checked><label for=\"sk-estimator-id-2\" class=\"sk-toggleable__label sk-toggleable__label-arrow\">DecisionTreeClassifier</label><div class=\"sk-toggleable__content\"><pre>DecisionTreeClassifier(random_state=42)</pre></div></div></div></div></div>"
      ],
      "text/plain": [
       "DecisionTreeClassifier(random_state=42)"
      ]
     },
     "execution_count": 25,
     "metadata": {},
     "output_type": "execute_result"
    }
   ],
   "source": [
    "model = DecisionTreeClassifier(random_state=42)\n",
    "model.fit(X_train, y_train)\n"
   ]
  },
  {
   "cell_type": "markdown",
   "metadata": {},
   "source": [
    "### Save the model"
   ]
  },
  {
   "cell_type": "code",
   "execution_count": 26,
   "metadata": {},
   "outputs": [],
   "source": [
    "with open(\"model.pkl\", \"wb\") as f:\n",
    "    pickle.dump(model, f)"
   ]
  },
  {
   "cell_type": "markdown",
   "metadata": {},
   "source": [
    "### Make predictions on the test set"
   ]
  },
  {
   "cell_type": "code",
   "execution_count": 27,
   "metadata": {},
   "outputs": [],
   "source": [
    "predictions = model.predict(X_test)"
   ]
  },
  {
   "cell_type": "markdown",
   "metadata": {},
   "source": [
    "### Display the 'Product Name', 'Prediction', and 'Actual Restock' columns"
   ]
  },
  {
   "cell_type": "code",
   "execution_count": 28,
   "metadata": {},
   "outputs": [
    {
     "name": "stdout",
     "output_type": "stream",
     "text": [
      "                 Product Name  Prediction  Actual Restock\n",
      "1860              AIYONS 1801           0               0\n",
      "353   AILYONS IRON BOX-HD198A           0               0\n",
      "1333          VIEGAPRO SGGMB1           0               0\n",
      "905    AILYONS KETTLE FK-0306           0               0\n",
      "1289         VITRON HTC 3200S           0               0\n",
      "...                       ...         ...             ...\n",
      "965        SAYONA IRONBOX 407           0               0\n",
      "1284             NUNIX 8803 5           0               0\n",
      "1739    SAYONA BLOWDRY SY-300           0               0\n",
      "261   AILYONS KETTLE FK- 0301           0               0\n",
      "535    AILYONS KETTLE FK-0308           1               1\n",
      "\n",
      "[400 rows x 3 columns]\n"
     ]
    }
   ],
   "source": [
    "result_df = pd.DataFrame({'Product Name': df.loc[X_test.index, 'Product Name'], 'Prediction': predictions, 'Actual Restock': y_test})\n",
    "print(result_df)"
   ]
  },
  {
   "cell_type": "markdown",
   "metadata": {},
   "source": [
    "### Display products that need restocking"
   ]
  },
  {
   "cell_type": "code",
   "execution_count": 29,
   "metadata": {},
   "outputs": [
    {
     "name": "stdout",
     "output_type": "stream",
     "text": [
      "\n",
      "Products that Need Restocking:\n",
      "                 Product Name  Prediction  Actual Restock\n",
      "1927           AIYONS FK 0317           1               1\n",
      "247                  NUNIX Q7           1               1\n",
      "1847    SAYONA BLOWDRY SY-300           1               1\n",
      "111              RASHNIK 1154           1               1\n",
      "1487             VITRON -V636           1               1\n",
      "383               VITRON 5568           1               1\n",
      "1623     AILYONS BLENDER 1731           1               1\n",
      "1647                 NUNIX 6S           1               1\n",
      "239   AILYONS KETTLE FK- 0301           1               1\n",
      "879              RASHNIK 1154           1               1\n",
      "759               SAYONA 2084           1               1\n",
      "1103  AILYONS KETTLE FK- 0301           1               1\n",
      "1223               NUNIX DR3H           1               1\n",
      "135           JSB T2 DECORDER           1               1\n",
      "583      AILYONS MICROWAVE-SC           1               1\n",
      "1959           LCD 7201 14-42           1               1\n",
      "1767   AILYONS KETTLE FK-0306           1               1\n",
      "679        SAYONA IRONBOX 406           1               1\n",
      "807            AILYONS HD 199           1               1\n",
      "231               VITRON 5201           1               1\n",
      "855               SAYONA 2084           1               1\n",
      "1551           AIYONS FK 0317           1               1\n",
      "1335               NUNIX R5 C           1               1\n",
      "1063     AILYONS MICROWAVE-SC           1               1\n",
      "23       NUNIX DISH RACK DR2S           1               1\n",
      "63             AILYONS HD 199           1               1\n",
      "743                VITRON 643           1               1\n",
      "479                 SONAR K6C           1               1\n",
      "1423           AILYONS HD 199           1               1\n",
      "1911             RASHNIK 1154           1               1\n",
      "351    AILYONS KETTLE FK-0306           1               1\n",
      "495              NUNIX AK 200           1               1\n",
      "591          VITRON HTC 3200S           1               1\n",
      "1719  AILYONS IRON BOX-HD198A           1               1\n",
      "1831   AILYONS KETTLE FK-0308           1               1\n",
      "1919         VITRON HTC 3200S           1               1\n",
      "1319       NUNIX HEATER 1722S           1               1\n",
      "1615       SAYONA IRONBOX 406           1               1\n",
      "1567             VITRON -V636           1               1\n",
      "303              AILYONS 0310           1               1\n",
      "607     NUNIX WARDROBE -88130           1               1\n",
      "527           LCD 7202 26- 63           1               1\n",
      "367            AILYONS HD 199           1               1\n",
      "1903        NUNIX HEATER 1231           1               1\n",
      "543     SCALE WITH ARM ACS 40           1               1\n",
      "175      AILYONS BLENDER 1731           1               1\n",
      "599                  NUNIX Q7           1               1\n",
      "471                NUNIX DR3H           1               1\n",
      "1543  AILYONS KETTLE FK- 0301           1               1\n",
      "887          AILYONS GS 014-1           1               1\n",
      "519        VITRON HTC 3218 TV           1               1\n",
      "1431             RASHNIK 1154           1               1\n",
      "535    AILYONS KETTLE FK-0308           1               1\n"
     ]
    }
   ],
   "source": [
    "restocking_df = result_df[result_df['Prediction'] == 1]\n",
    "print(\"\\nProducts that Need Restocking:\")\n",
    "print(restocking_df)"
   ]
  },
  {
   "cell_type": "markdown",
   "metadata": {},
   "source": [
    "### Display products that don't need restocking"
   ]
  },
  {
   "cell_type": "code",
   "execution_count": 30,
   "metadata": {},
   "outputs": [
    {
     "name": "stdout",
     "output_type": "stream",
     "text": [
      "\n",
      "Products that Don't Need Restocking:\n",
      "                 Product Name  Prediction  Actual Restock\n",
      "1860              AIYONS 1801           0               0\n",
      "353   AILYONS IRON BOX-HD198A           0               0\n",
      "1333          VIEGAPRO SGGMB1           0               0\n",
      "905    AILYONS KETTLE FK-0306           0               0\n",
      "1289         VITRON HTC 3200S           0               0\n",
      "...                       ...         ...             ...\n",
      "534   AILYONS KETTLE FK- 0301           0               0\n",
      "965        SAYONA IRONBOX 407           0               0\n",
      "1284             NUNIX 8803 5           0               0\n",
      "1739    SAYONA BLOWDRY SY-300           0               0\n",
      "261   AILYONS KETTLE FK- 0301           0               0\n",
      "\n",
      "[347 rows x 3 columns]\n"
     ]
    }
   ],
   "source": [
    "no_restock_df = result_df[result_df['Prediction'] == 0]\n",
    "print(\"\\nProducts that Don't Need Restocking:\")\n",
    "print(no_restock_df)"
   ]
  },
  {
   "cell_type": "markdown",
   "metadata": {},
   "source": [
    "### Evaluate the model"
   ]
  },
  {
   "cell_type": "code",
   "execution_count": 31,
   "metadata": {},
   "outputs": [
    {
     "name": "stdout",
     "output_type": "stream",
     "text": [
      "\n",
      "Accuracy: 1.00\n"
     ]
    }
   ],
   "source": [
    "accuracy = accuracy_score(y_test, predictions)\n",
    "print(f'\\nAccuracy: {accuracy:.2f}')"
   ]
  },
  {
   "cell_type": "markdown",
   "metadata": {},
   "source": [
    "### Display classification report with zero_division='warn'"
   ]
  },
  {
   "cell_type": "code",
   "execution_count": 32,
   "metadata": {},
   "outputs": [
    {
     "name": "stdout",
     "output_type": "stream",
     "text": [
      "\n",
      "Classification Report:\n",
      "              precision    recall  f1-score   support\n",
      "\n",
      "           0       1.00      1.00      1.00       347\n",
      "           1       1.00      1.00      1.00        53\n",
      "\n",
      "    accuracy                           1.00       400\n",
      "   macro avg       1.00      1.00      1.00       400\n",
      "weighted avg       1.00      1.00      1.00       400\n",
      "\n"
     ]
    }
   ],
   "source": [
    "print(\"\\nClassification Report:\")\n",
    "print(classification_report(y_test, predictions, zero_division='warn'))"
   ]
  },
  {
   "cell_type": "markdown",
   "metadata": {},
   "source": [
    "### Display decision tree rules with more descriptive class names"
   ]
  },
  {
   "cell_type": "code",
   "execution_count": 33,
   "metadata": {},
   "outputs": [
    {
     "name": "stdout",
     "output_type": "stream",
     "text": [
      "\n",
      "Decision Tree Rules:\n",
      "|--- Buying Price <= 680.00\n",
      "|   |--- class: Do Not Restock\n",
      "|--- Buying Price >  680.00\n",
      "|   |--- class: Need Restocking\n",
      "\n"
     ]
    }
   ],
   "source": [
    "tree_rules = export_text(model, feature_names=X.columns.tolist(), class_names=[\"Do Not Restock\", \"Need Restocking\"])\n",
    "print(\"\\nDecision Tree Rules:\")\n",
    "print(tree_rules)"
   ]
  },
  {
   "cell_type": "markdown",
   "metadata": {},
   "source": [
    "### Visualize the decision tree and save it to a PNG file"
   ]
  },
  {
   "cell_type": "code",
   "execution_count": 34,
   "metadata": {},
   "outputs": [
    {
     "data": {
      "text/plain": [
       "[Text(0.5, 0.75, 'node #0\\nBuying Price <= 680.0\\nsamples = 1600\\nvalue = [1403, 197]\\nclass = Do Not Restock'),\n",
       " Text(0.25, 0.25, 'node #1\\nsamples = 1403\\nvalue = [1403, 0]\\nclass = Do Not Restock'),\n",
       " Text(0.75, 0.25, 'node #2\\nsamples = 197\\nvalue = [0, 197]\\nclass = Need Restocking')]"
      ]
     },
     "execution_count": 34,
     "metadata": {},
     "output_type": "execute_result"
    },
    {
     "data": {
      "image/png": "[encoded data removed]",
      "text/plain": [
       "<Figure size 2000x1500 with 1 Axes>"
      ]
     },
     "metadata": {},
     "output_type": "display_data"
    }
   ],
   "source": [
    "plt.figure(figsize=(20, 15))\n",
    "plot_tree(model, filled=True, feature_names=X.columns, class_names=[\"Do Not Restock\", \"Need Restocking\"], rounded=True, precision=2, impurity=False, node_ids=True, fontsize=8)"
   ]
  }
 ],
 "metadata": {
  "kernelspec": {
   "display_name": ".env",
   "language": "python",
   "name": "python3"
  },
  "language_info": {
   "codemirror_mode": {
    "name": "ipython",
    "version": 3
   },
   "file_extension": ".py",
   "mimetype": "text/x-python",
   "name": "python",
   "nbconvert_exporter": "python",
   "pygments_lexer": "ipython3",
   "version": "3.11.6"
  }
 },
 "nbformat": 4,
 "nbformat_minor": 2
}
